{
 "cells": [
  {
   "cell_type": "markdown",
   "id": "6b3d69b1",
   "metadata": {},
   "source": [
    "The *try_iter* function will take in a string of Python code and return a string of the same code with try-except blocks added in.\n",
    "\n",
    "If the *byline* argument is left as the default **True**, a try block will be placed around each line. If it is set to **False**, it will expect that **%** and **^** markers will be included in the code string around the lines, or groups of lines, that are desired to be placed in try blocks.\n",
    "\n",
    "The exceptions will be handled with \"pass\" by default, but can be changed using the *except_case* argument. \n",
    "\n",
    "This is kind of \"hacky\" or \"anti-pythonic\", but it can be useful if you need to place try blocks around many lines or groups of lines in code and for whatever reason can't/won't handle it in a more \"pythonic\" way."
   ]
  },
  {
   "cell_type": "code",
   "execution_count": 1,
   "id": "357ab07a",
   "metadata": {},
   "outputs": [],
   "source": [
    "from iterate_try import try_iter"
   ]
  },
  {
   "cell_type": "code",
   "execution_count": 2,
   "id": "3e3cabee",
   "metadata": {},
   "outputs": [],
   "source": [
    "###sample code 1 - by line\n",
    "\n",
    "# todict['horse'] = fromdict['horse']\n",
    "# todict['dog'] = fromdict['dog']\n",
    "# todict['bird'] = fromdict['bird']\n",
    "# todict['fish'] = fromdict['fish']\n",
    "\n",
    "\n",
    "code_string1 = '''todict['horse'] = fromdict['horse']\n",
    "todict['dog'] = fromdict['dog']\n",
    "todict['bird'] = fromdict['bird']\n",
    "todict['fish'] = fromdict['fish']'''\n",
    "\n",
    "\n",
    "\n",
    "###sample code 2 - using <> markers\n",
    "\n",
    "# %todict['horse'] = fromdict['horse']^\n",
    "# %todict['dog'] = fromdict['dog']\n",
    "# todict['bird'] = fromdict['bird']\n",
    "# todict['elephant'] = fromdict['elephant']\n",
    "# todict['cat'] = fromdict['cat']^\n",
    "# todict['lion'] = fromdict['lion']\n",
    "# %for a in b:\n",
    "#     print(c[a])^\n",
    "# %for x in y:\n",
    "#     print(z[x])^\n",
    "                          \n",
    "                          \n",
    "code_string2 = '''%todict['horse'] = fromdict['horse']^\n",
    "%todict['dog'] = fromdict['dog']\n",
    "todict['bird'] = fromdict['bird']\n",
    "todict['elephant'] = fromdict['elephant']\n",
    "todict['cat'] = fromdict['cat']^\n",
    "todict['lion'] = fromdict['lion']\n",
    "%for a in b:\n",
    "    print(c[a])^\n",
    "%for x in y:\n",
    "    print(z[x])^'''\n",
    "\n"
   ]
  },
  {
   "cell_type": "code",
   "execution_count": 3,
   "id": "d965a94c",
   "metadata": {},
   "outputs": [
    {
     "name": "stdout",
     "output_type": "stream",
     "text": [
      "try:\n",
      "\ttodict['horse'] = fromdict['horse']\n",
      "except:\n",
      "\tpass\n",
      "try:\n",
      "\ttodict['dog'] = fromdict['dog']\n",
      "except:\n",
      "\tpass\n",
      "try:\n",
      "\ttodict['bird'] = fromdict['bird']\n",
      "except:\n",
      "\tpass\n",
      "try:\n",
      "\ttodict['fish'] = fromdict['fish']\n",
      "except:\n",
      "\tpass\n"
     ]
    }
   ],
   "source": [
    "try_code_1 = try_iter(code_string1)\n",
    "print(try_code_1)"
   ]
  },
  {
   "cell_type": "code",
   "execution_count": 4,
   "id": "f4909469",
   "metadata": {},
   "outputs": [
    {
     "name": "stdout",
     "output_type": "stream",
     "text": [
      "try:\n",
      "\ttodict['horse'] = fromdict['horse']\n",
      "except:\n",
      "\tprint(\"error!\")\n",
      "try:\n",
      "\ttodict['dog'] = fromdict['dog']\n",
      "\ttodict['bird'] = fromdict['bird']\n",
      "\ttodict['elephant'] = fromdict['elephant']\n",
      "\ttodict['cat'] = fromdict['cat']\n",
      "except:\n",
      "\tprint(\"error!\")\n",
      "todict['lion'] = fromdict['lion']\n",
      "try:\n",
      "\tfor a in b:\n",
      "\t    print(c[a])\n",
      "except:\n",
      "\tprint(\"error!\")\n",
      "try:\n",
      "\tfor x in y:\n",
      "\t    print(z[x])\n",
      "except:\n",
      "\tprint(\"error!\")\n"
     ]
    }
   ],
   "source": [
    "try_code_2 = try_iter(code_string2, byline=False, except_case='print(\"error!\")')\n",
    "print(try_code_2)"
   ]
  }
 ],
 "metadata": {
  "kernelspec": {
   "display_name": "Python 3",
   "language": "python",
   "name": "python3"
  },
  "language_info": {
   "codemirror_mode": {
    "name": "ipython",
    "version": 3
   },
   "file_extension": ".py",
   "mimetype": "text/x-python",
   "name": "python",
   "nbconvert_exporter": "python",
   "pygments_lexer": "ipython3",
   "version": "3.8.10"
  }
 },
 "nbformat": 4,
 "nbformat_minor": 5
}
